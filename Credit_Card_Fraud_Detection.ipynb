{
  "nbformat": 4,
  "nbformat_minor": 0,
  "metadata": {
    "colab": {
      "name": "Credit_Card_Fraud_Detection.ipynb",
      "provenance": [],
      "collapsed_sections": [],
      "mount_file_id": "11Iq9C0PFwy3Ci4Wr6wsCjaeo2xHq-Q4_",
      "authorship_tag": "ABX9TyPYF1WiL/BOq40OD3SRgPsl",
      "include_colab_link": true
    },
    "kernelspec": {
      "name": "python3",
      "display_name": "Python 3"
    },
    "language_info": {
      "name": "python"
    }
  },
  "cells": [
    {
      "cell_type": "markdown",
      "metadata": {
        "id": "view-in-github",
        "colab_type": "text"
      },
      "source": [
        "<a href=\"https://colab.research.google.com/github/rsudiplive/Credit-Card-fraud-detection/blob/main/Credit_Card_Fraud_Detection.ipynb\" target=\"_parent\"><img src=\"https://colab.research.google.com/assets/colab-badge.svg\" alt=\"Open In Colab\"/></a>"
      ]
    },
    {
      "cell_type": "markdown",
      "metadata": {
        "id": "ttnJdIQKZXaM"
      },
      "source": [
        "# We have a dataset of credit card companies where we have to find out **whether the credit card transaction was fraudulent or not**."
      ]
    },
    {
      "cell_type": "markdown",
      "metadata": {
        "id": "GdYqLPbDa8sF"
      },
      "source": [
        "Generally in fraud detection, fraud transaction is relatively rare, only 6% of the transaction is fraudulent. There's a problem in overall accurary after fitting the model and we get a nearly overall of 100% accuracy. But, that's irrelevant since it generally depitcs the majority class proportion which are non-fraud and we get missed out on predicting the fraud ones. <br> \n",
        "\n",
        "This arises due to imbalanced classification of the classes either fraudulent(minority) or non-fraud(majority)"
      ]
    },
    {
      "cell_type": "code",
      "metadata": {
        "id": "KB062A2dZTso"
      },
      "source": [
        "import pandas as pd\n",
        "import numpy as np\n",
        "\n",
        "import matplotlib.pyplot as plt\n",
        "%matplotlib inline\n",
        "import seaborn as sns\n",
        "\n",
        "from sklearn.model_selection import train_test_split\n",
        "from sklearn.linear_model import LogisticRegression\n",
        "from xgboost import XGBClassifier\n",
        "from sklearn.ensemble import RandomForestClassifier\n",
        "from sklearn.ensemble import GradientBoostingClassifier\n",
        "from sklearn.ensemble import IsolationForest\n",
        "from sklearn.neighbors import LocalOutlierFactor\n",
        "from sklearn.svm import OneClassSVM\n",
        "import sklearn.metrics as metrics\n",
        "from sklearn.metrics import roc_curve\n",
        "from sklearn.metrics import roc_auc_score, precision_score, recall_score,f1_score, confusion_matrix, accuracy_score, classification_report"
      ],
      "execution_count": 1,
      "outputs": []
    },
    {
      "cell_type": "code",
      "metadata": {
        "id": "w0bZsDPdcT43"
      },
      "source": [
        "cred_card = pd.read_csv('/content/drive/MyDrive/Colab Notebooks/dat/creditcard.csv')"
      ],
      "execution_count": 2,
      "outputs": []
    },
    {
      "cell_type": "code",
      "metadata": {
        "colab": {
          "base_uri": "https://localhost:8080/",
          "height": 224
        },
        "id": "CtwMt34AiW-A",
        "outputId": "ff0a360a-639e-47c3-dc19-a520e82a9644"
      },
      "source": [
        "cred_card.head()"
      ],
      "execution_count": 3,
      "outputs": [
        {
          "output_type": "execute_result",
          "data": {
            "text/html": [
              "<div>\n",
              "<style scoped>\n",
              "    .dataframe tbody tr th:only-of-type {\n",
              "        vertical-align: middle;\n",
              "    }\n",
              "\n",
              "    .dataframe tbody tr th {\n",
              "        vertical-align: top;\n",
              "    }\n",
              "\n",
              "    .dataframe thead th {\n",
              "        text-align: right;\n",
              "    }\n",
              "</style>\n",
              "<table border=\"1\" class=\"dataframe\">\n",
              "  <thead>\n",
              "    <tr style=\"text-align: right;\">\n",
              "      <th></th>\n",
              "      <th>V1</th>\n",
              "      <th>V2</th>\n",
              "      <th>V3</th>\n",
              "      <th>V4</th>\n",
              "      <th>V5</th>\n",
              "      <th>V6</th>\n",
              "      <th>V7</th>\n",
              "      <th>V8</th>\n",
              "      <th>V9</th>\n",
              "      <th>V10</th>\n",
              "      <th>V11</th>\n",
              "      <th>V12</th>\n",
              "      <th>V13</th>\n",
              "      <th>V14</th>\n",
              "      <th>V15</th>\n",
              "      <th>V16</th>\n",
              "      <th>V17</th>\n",
              "      <th>V18</th>\n",
              "      <th>V19</th>\n",
              "      <th>V20</th>\n",
              "      <th>V21</th>\n",
              "      <th>V22</th>\n",
              "      <th>V23</th>\n",
              "      <th>V24</th>\n",
              "      <th>V25</th>\n",
              "      <th>V26</th>\n",
              "      <th>V27</th>\n",
              "      <th>V28</th>\n",
              "      <th>V29</th>\n",
              "      <th>Target</th>\n",
              "    </tr>\n",
              "  </thead>\n",
              "  <tbody>\n",
              "    <tr>\n",
              "      <th>0</th>\n",
              "      <td>0.114697</td>\n",
              "      <td>0.796303</td>\n",
              "      <td>-0.149553</td>\n",
              "      <td>-0.823011</td>\n",
              "      <td>0.878763</td>\n",
              "      <td>-0.553152</td>\n",
              "      <td>0.939259</td>\n",
              "      <td>-0.108502</td>\n",
              "      <td>0.111137</td>\n",
              "      <td>-0.390521</td>\n",
              "      <td>-1.949546</td>\n",
              "      <td>-0.494436</td>\n",
              "      <td>-0.353696</td>\n",
              "      <td>0.158729</td>\n",
              "      <td>-0.267239</td>\n",
              "      <td>0.234802</td>\n",
              "      <td>-0.754936</td>\n",
              "      <td>-0.343012</td>\n",
              "      <td>0.312175</td>\n",
              "      <td>-0.042711</td>\n",
              "      <td>-0.335776</td>\n",
              "      <td>-0.807853</td>\n",
              "      <td>-0.055940</td>\n",
              "      <td>-1.025281</td>\n",
              "      <td>-0.369557</td>\n",
              "      <td>0.204653</td>\n",
              "      <td>0.242724</td>\n",
              "      <td>0.085713</td>\n",
              "      <td>0.89</td>\n",
              "      <td>0</td>\n",
              "    </tr>\n",
              "    <tr>\n",
              "      <th>1</th>\n",
              "      <td>-0.039318</td>\n",
              "      <td>0.495784</td>\n",
              "      <td>-0.810884</td>\n",
              "      <td>0.546693</td>\n",
              "      <td>1.986257</td>\n",
              "      <td>4.386342</td>\n",
              "      <td>-1.344891</td>\n",
              "      <td>-1.743736</td>\n",
              "      <td>-0.563103</td>\n",
              "      <td>-0.616315</td>\n",
              "      <td>-0.587786</td>\n",
              "      <td>0.317419</td>\n",
              "      <td>-0.408521</td>\n",
              "      <td>0.719639</td>\n",
              "      <td>0.226926</td>\n",
              "      <td>-0.296316</td>\n",
              "      <td>-0.040143</td>\n",
              "      <td>0.119177</td>\n",
              "      <td>1.057682</td>\n",
              "      <td>0.926255</td>\n",
              "      <td>-1.377003</td>\n",
              "      <td>-0.072200</td>\n",
              "      <td>-0.197573</td>\n",
              "      <td>1.014807</td>\n",
              "      <td>1.011293</td>\n",
              "      <td>-0.167684</td>\n",
              "      <td>0.113136</td>\n",
              "      <td>0.256836</td>\n",
              "      <td>85.00</td>\n",
              "      <td>0</td>\n",
              "    </tr>\n",
              "    <tr>\n",
              "      <th>2</th>\n",
              "      <td>2.275706</td>\n",
              "      <td>-1.531508</td>\n",
              "      <td>-1.021969</td>\n",
              "      <td>-1.602152</td>\n",
              "      <td>-1.220329</td>\n",
              "      <td>-0.462376</td>\n",
              "      <td>-1.196485</td>\n",
              "      <td>-0.147058</td>\n",
              "      <td>-0.950224</td>\n",
              "      <td>1.560463</td>\n",
              "      <td>-1.753256</td>\n",
              "      <td>-1.331010</td>\n",
              "      <td>-0.061941</td>\n",
              "      <td>-0.405532</td>\n",
              "      <td>0.048083</td>\n",
              "      <td>-0.307503</td>\n",
              "      <td>0.289363</td>\n",
              "      <td>0.189739</td>\n",
              "      <td>0.022546</td>\n",
              "      <td>-0.408289</td>\n",
              "      <td>-0.193271</td>\n",
              "      <td>-0.103533</td>\n",
              "      <td>0.150945</td>\n",
              "      <td>-0.811083</td>\n",
              "      <td>-0.197913</td>\n",
              "      <td>-0.128446</td>\n",
              "      <td>0.014197</td>\n",
              "      <td>-0.051289</td>\n",
              "      <td>42.70</td>\n",
              "      <td>0</td>\n",
              "    </tr>\n",
              "    <tr>\n",
              "      <th>3</th>\n",
              "      <td>1.940137</td>\n",
              "      <td>-0.357671</td>\n",
              "      <td>-1.210551</td>\n",
              "      <td>0.382523</td>\n",
              "      <td>0.050823</td>\n",
              "      <td>-0.171322</td>\n",
              "      <td>-0.109124</td>\n",
              "      <td>-0.002115</td>\n",
              "      <td>0.869258</td>\n",
              "      <td>-0.001965</td>\n",
              "      <td>0.607629</td>\n",
              "      <td>1.048673</td>\n",
              "      <td>-0.514821</td>\n",
              "      <td>0.329538</td>\n",
              "      <td>-1.041463</td>\n",
              "      <td>-0.498797</td>\n",
              "      <td>-0.276887</td>\n",
              "      <td>0.114245</td>\n",
              "      <td>0.379447</td>\n",
              "      <td>-0.199280</td>\n",
              "      <td>0.157994</td>\n",
              "      <td>0.650355</td>\n",
              "      <td>0.034206</td>\n",
              "      <td>0.739535</td>\n",
              "      <td>0.223605</td>\n",
              "      <td>-0.195509</td>\n",
              "      <td>-0.012791</td>\n",
              "      <td>-0.056841</td>\n",
              "      <td>29.99</td>\n",
              "      <td>0</td>\n",
              "    </tr>\n",
              "    <tr>\n",
              "      <th>4</th>\n",
              "      <td>1.081395</td>\n",
              "      <td>-0.502615</td>\n",
              "      <td>1.075887</td>\n",
              "      <td>-0.543359</td>\n",
              "      <td>-1.472946</td>\n",
              "      <td>-1.065484</td>\n",
              "      <td>-0.443231</td>\n",
              "      <td>-0.143374</td>\n",
              "      <td>1.659826</td>\n",
              "      <td>-1.131238</td>\n",
              "      <td>0.173132</td>\n",
              "      <td>1.430172</td>\n",
              "      <td>0.915609</td>\n",
              "      <td>-0.336588</td>\n",
              "      <td>1.140171</td>\n",
              "      <td>-0.653626</td>\n",
              "      <td>-0.016567</td>\n",
              "      <td>0.066287</td>\n",
              "      <td>0.242537</td>\n",
              "      <td>0.059880</td>\n",
              "      <td>0.224157</td>\n",
              "      <td>0.821209</td>\n",
              "      <td>-0.137223</td>\n",
              "      <td>0.986259</td>\n",
              "      <td>0.563228</td>\n",
              "      <td>-0.574206</td>\n",
              "      <td>0.089673</td>\n",
              "      <td>0.052036</td>\n",
              "      <td>68.00</td>\n",
              "      <td>0</td>\n",
              "    </tr>\n",
              "  </tbody>\n",
              "</table>\n",
              "</div>"
            ],
            "text/plain": [
              "         V1        V2        V3        V4  ...       V27       V28    V29  Target\n",
              "0  0.114697  0.796303 -0.149553 -0.823011  ...  0.242724  0.085713   0.89       0\n",
              "1 -0.039318  0.495784 -0.810884  0.546693  ...  0.113136  0.256836  85.00       0\n",
              "2  2.275706 -1.531508 -1.021969 -1.602152  ...  0.014197 -0.051289  42.70       0\n",
              "3  1.940137 -0.357671 -1.210551  0.382523  ... -0.012791 -0.056841  29.99       0\n",
              "4  1.081395 -0.502615  1.075887 -0.543359  ...  0.089673  0.052036  68.00       0\n",
              "\n",
              "[5 rows x 30 columns]"
            ]
          },
          "metadata": {
            "tags": []
          },
          "execution_count": 3
        }
      ]
    },
    {
      "cell_type": "code",
      "metadata": {
        "colab": {
          "base_uri": "https://localhost:8080/"
        },
        "id": "jynez6l5iaZ9",
        "outputId": "f04b7fd3-3c22-4134-b9a9-729d0d312930"
      },
      "source": [
        "cred_card.shape"
      ],
      "execution_count": 4,
      "outputs": [
        {
          "output_type": "execute_result",
          "data": {
            "text/plain": [
              "(56962, 30)"
            ]
          },
          "metadata": {
            "tags": []
          },
          "execution_count": 4
        }
      ]
    },
    {
      "cell_type": "code",
      "metadata": {
        "colab": {
          "base_uri": "https://localhost:8080/"
        },
        "id": "jiJ9jrzWidgi",
        "outputId": "04f699af-4756-49fd-c2ca-ec0cdfab2627"
      },
      "source": [
        "cred_card['Target'].value_counts()"
      ],
      "execution_count": 5,
      "outputs": [
        {
          "output_type": "execute_result",
          "data": {
            "text/plain": [
              "0    56864\n",
              "1       98\n",
              "Name: Target, dtype: int64"
            ]
          },
          "metadata": {
            "tags": []
          },
          "execution_count": 5
        }
      ]
    },
    {
      "cell_type": "markdown",
      "metadata": {
        "id": "G3drl4aSirCN"
      },
      "source": [
        "This clearly indicates the presence of unbalance classes with class 0(non-fraud) being the majority and the class 1(fraud) being the minority."
      ]
    },
    {
      "cell_type": "code",
      "metadata": {
        "colab": {
          "base_uri": "https://localhost:8080/",
          "height": 317
        },
        "id": "DZMrD_pHioMl",
        "outputId": "861f95ba-e55a-45de-9036-d758db54273c"
      },
      "source": [
        "cred_card.describe()"
      ],
      "execution_count": 6,
      "outputs": [
        {
          "output_type": "execute_result",
          "data": {
            "text/html": [
              "<div>\n",
              "<style scoped>\n",
              "    .dataframe tbody tr th:only-of-type {\n",
              "        vertical-align: middle;\n",
              "    }\n",
              "\n",
              "    .dataframe tbody tr th {\n",
              "        vertical-align: top;\n",
              "    }\n",
              "\n",
              "    .dataframe thead th {\n",
              "        text-align: right;\n",
              "    }\n",
              "</style>\n",
              "<table border=\"1\" class=\"dataframe\">\n",
              "  <thead>\n",
              "    <tr style=\"text-align: right;\">\n",
              "      <th></th>\n",
              "      <th>V1</th>\n",
              "      <th>V2</th>\n",
              "      <th>V3</th>\n",
              "      <th>V4</th>\n",
              "      <th>V5</th>\n",
              "      <th>V6</th>\n",
              "      <th>V7</th>\n",
              "      <th>V8</th>\n",
              "      <th>V9</th>\n",
              "      <th>V10</th>\n",
              "      <th>V11</th>\n",
              "      <th>V12</th>\n",
              "      <th>V13</th>\n",
              "      <th>V14</th>\n",
              "      <th>V15</th>\n",
              "      <th>V16</th>\n",
              "      <th>V17</th>\n",
              "      <th>V18</th>\n",
              "      <th>V19</th>\n",
              "      <th>V20</th>\n",
              "      <th>V21</th>\n",
              "      <th>V22</th>\n",
              "      <th>V23</th>\n",
              "      <th>V24</th>\n",
              "      <th>V25</th>\n",
              "      <th>V26</th>\n",
              "      <th>V27</th>\n",
              "      <th>V28</th>\n",
              "      <th>V29</th>\n",
              "      <th>Target</th>\n",
              "    </tr>\n",
              "  </thead>\n",
              "  <tbody>\n",
              "    <tr>\n",
              "      <th>count</th>\n",
              "      <td>56962.000000</td>\n",
              "      <td>56962.000000</td>\n",
              "      <td>56962.000000</td>\n",
              "      <td>56962.000000</td>\n",
              "      <td>56962.000000</td>\n",
              "      <td>56962.000000</td>\n",
              "      <td>56962.000000</td>\n",
              "      <td>56962.000000</td>\n",
              "      <td>56962.000000</td>\n",
              "      <td>56962.000000</td>\n",
              "      <td>56962.000000</td>\n",
              "      <td>56962.000000</td>\n",
              "      <td>56962.000000</td>\n",
              "      <td>56962.000000</td>\n",
              "      <td>56962.000000</td>\n",
              "      <td>56962.000000</td>\n",
              "      <td>56962.000000</td>\n",
              "      <td>56962.000000</td>\n",
              "      <td>56962.000000</td>\n",
              "      <td>56962.000000</td>\n",
              "      <td>56962.000000</td>\n",
              "      <td>56962.000000</td>\n",
              "      <td>56962.000000</td>\n",
              "      <td>56962.000000</td>\n",
              "      <td>56962.000000</td>\n",
              "      <td>56962.000000</td>\n",
              "      <td>56962.000000</td>\n",
              "      <td>56962.000000</td>\n",
              "      <td>56962.000000</td>\n",
              "      <td>56962.000000</td>\n",
              "    </tr>\n",
              "    <tr>\n",
              "      <th>mean</th>\n",
              "      <td>0.013286</td>\n",
              "      <td>0.006610</td>\n",
              "      <td>-0.004263</td>\n",
              "      <td>0.001496</td>\n",
              "      <td>-0.003508</td>\n",
              "      <td>-0.003079</td>\n",
              "      <td>0.000141</td>\n",
              "      <td>-0.006501</td>\n",
              "      <td>0.001564</td>\n",
              "      <td>0.003176</td>\n",
              "      <td>-0.008330</td>\n",
              "      <td>-0.000041</td>\n",
              "      <td>-0.000320</td>\n",
              "      <td>-0.003711</td>\n",
              "      <td>0.002949</td>\n",
              "      <td>-0.001734</td>\n",
              "      <td>0.000030</td>\n",
              "      <td>0.003325</td>\n",
              "      <td>0.000766</td>\n",
              "      <td>-0.002685</td>\n",
              "      <td>-0.002253</td>\n",
              "      <td>-0.004938</td>\n",
              "      <td>0.004008</td>\n",
              "      <td>-0.001017</td>\n",
              "      <td>-0.000872</td>\n",
              "      <td>0.004513</td>\n",
              "      <td>0.001385</td>\n",
              "      <td>-0.001990</td>\n",
              "      <td>87.658797</td>\n",
              "      <td>0.001720</td>\n",
              "    </tr>\n",
              "    <tr>\n",
              "      <th>std</th>\n",
              "      <td>1.941231</td>\n",
              "      <td>1.611224</td>\n",
              "      <td>1.516853</td>\n",
              "      <td>1.419107</td>\n",
              "      <td>1.431731</td>\n",
              "      <td>1.359647</td>\n",
              "      <td>1.301800</td>\n",
              "      <td>1.201138</td>\n",
              "      <td>1.103688</td>\n",
              "      <td>1.095156</td>\n",
              "      <td>1.015901</td>\n",
              "      <td>0.997691</td>\n",
              "      <td>0.994583</td>\n",
              "      <td>0.954667</td>\n",
              "      <td>0.912533</td>\n",
              "      <td>0.878088</td>\n",
              "      <td>0.841764</td>\n",
              "      <td>0.836135</td>\n",
              "      <td>0.819729</td>\n",
              "      <td>0.764450</td>\n",
              "      <td>0.735871</td>\n",
              "      <td>0.730301</td>\n",
              "      <td>0.621623</td>\n",
              "      <td>0.604191</td>\n",
              "      <td>0.521003</td>\n",
              "      <td>0.481857</td>\n",
              "      <td>0.416750</td>\n",
              "      <td>0.325640</td>\n",
              "      <td>258.042879</td>\n",
              "      <td>0.041443</td>\n",
              "    </tr>\n",
              "    <tr>\n",
              "      <th>min</th>\n",
              "      <td>-36.510583</td>\n",
              "      <td>-47.429676</td>\n",
              "      <td>-48.325589</td>\n",
              "      <td>-5.560118</td>\n",
              "      <td>-113.743307</td>\n",
              "      <td>-20.054615</td>\n",
              "      <td>-28.215112</td>\n",
              "      <td>-41.484823</td>\n",
              "      <td>-9.481456</td>\n",
              "      <td>-20.949192</td>\n",
              "      <td>-4.009307</td>\n",
              "      <td>-18.553697</td>\n",
              "      <td>-3.848943</td>\n",
              "      <td>-19.214325</td>\n",
              "      <td>-4.092344</td>\n",
              "      <td>-12.661696</td>\n",
              "      <td>-21.710188</td>\n",
              "      <td>-8.859452</td>\n",
              "      <td>-4.619034</td>\n",
              "      <td>-54.497720</td>\n",
              "      <td>-21.620120</td>\n",
              "      <td>-8.593642</td>\n",
              "      <td>-32.828995</td>\n",
              "      <td>-2.822684</td>\n",
              "      <td>-8.696627</td>\n",
              "      <td>-1.778061</td>\n",
              "      <td>-8.878665</td>\n",
              "      <td>-15.430084</td>\n",
              "      <td>0.000000</td>\n",
              "      <td>0.000000</td>\n",
              "    </tr>\n",
              "    <tr>\n",
              "      <th>25%</th>\n",
              "      <td>-0.908591</td>\n",
              "      <td>-0.600208</td>\n",
              "      <td>-0.893961</td>\n",
              "      <td>-0.847617</td>\n",
              "      <td>-0.694059</td>\n",
              "      <td>-0.770145</td>\n",
              "      <td>-0.551096</td>\n",
              "      <td>-0.211190</td>\n",
              "      <td>-0.642072</td>\n",
              "      <td>-0.535121</td>\n",
              "      <td>-0.768230</td>\n",
              "      <td>-0.405703</td>\n",
              "      <td>-0.648105</td>\n",
              "      <td>-0.423884</td>\n",
              "      <td>-0.575757</td>\n",
              "      <td>-0.471831</td>\n",
              "      <td>-0.484962</td>\n",
              "      <td>-0.494863</td>\n",
              "      <td>-0.455728</td>\n",
              "      <td>-0.211598</td>\n",
              "      <td>-0.230210</td>\n",
              "      <td>-0.549030</td>\n",
              "      <td>-0.160179</td>\n",
              "      <td>-0.356599</td>\n",
              "      <td>-0.315738</td>\n",
              "      <td>-0.322766</td>\n",
              "      <td>-0.070204</td>\n",
              "      <td>-0.052351</td>\n",
              "      <td>5.615000</td>\n",
              "      <td>0.000000</td>\n",
              "    </tr>\n",
              "    <tr>\n",
              "      <th>50%</th>\n",
              "      <td>0.036251</td>\n",
              "      <td>0.061840</td>\n",
              "      <td>0.170910</td>\n",
              "      <td>-0.022094</td>\n",
              "      <td>-0.051828</td>\n",
              "      <td>-0.278939</td>\n",
              "      <td>0.039155</td>\n",
              "      <td>0.019903</td>\n",
              "      <td>-0.052607</td>\n",
              "      <td>-0.095676</td>\n",
              "      <td>-0.043537</td>\n",
              "      <td>0.140321</td>\n",
              "      <td>-0.013682</td>\n",
              "      <td>0.046713</td>\n",
              "      <td>0.051535</td>\n",
              "      <td>0.066099</td>\n",
              "      <td>-0.066498</td>\n",
              "      <td>-0.005457</td>\n",
              "      <td>0.003560</td>\n",
              "      <td>-0.061739</td>\n",
              "      <td>-0.032379</td>\n",
              "      <td>-0.000329</td>\n",
              "      <td>-0.009334</td>\n",
              "      <td>0.040045</td>\n",
              "      <td>0.018074</td>\n",
              "      <td>-0.047859</td>\n",
              "      <td>0.001451</td>\n",
              "      <td>0.011354</td>\n",
              "      <td>21.900000</td>\n",
              "      <td>0.000000</td>\n",
              "    </tr>\n",
              "    <tr>\n",
              "      <th>75%</th>\n",
              "      <td>1.319727</td>\n",
              "      <td>0.801163</td>\n",
              "      <td>1.016897</td>\n",
              "      <td>0.738688</td>\n",
              "      <td>0.615454</td>\n",
              "      <td>0.392801</td>\n",
              "      <td>0.569769</td>\n",
              "      <td>0.324905</td>\n",
              "      <td>0.599634</td>\n",
              "      <td>0.453059</td>\n",
              "      <td>0.728512</td>\n",
              "      <td>0.616856</td>\n",
              "      <td>0.668013</td>\n",
              "      <td>0.487491</td>\n",
              "      <td>0.648842</td>\n",
              "      <td>0.520843</td>\n",
              "      <td>0.402614</td>\n",
              "      <td>0.502115</td>\n",
              "      <td>0.458875</td>\n",
              "      <td>0.131241</td>\n",
              "      <td>0.184809</td>\n",
              "      <td>0.524484</td>\n",
              "      <td>0.149985</td>\n",
              "      <td>0.437657</td>\n",
              "      <td>0.348895</td>\n",
              "      <td>0.245286</td>\n",
              "      <td>0.090737</td>\n",
              "      <td>0.077483</td>\n",
              "      <td>77.500000</td>\n",
              "      <td>0.000000</td>\n",
              "    </tr>\n",
              "    <tr>\n",
              "      <th>max</th>\n",
              "      <td>2.446505</td>\n",
              "      <td>18.902453</td>\n",
              "      <td>3.985446</td>\n",
              "      <td>15.304184</td>\n",
              "      <td>29.016124</td>\n",
              "      <td>73.301626</td>\n",
              "      <td>120.589494</td>\n",
              "      <td>18.282168</td>\n",
              "      <td>10.370658</td>\n",
              "      <td>15.236028</td>\n",
              "      <td>12.018913</td>\n",
              "      <td>4.846452</td>\n",
              "      <td>7.126883</td>\n",
              "      <td>7.421944</td>\n",
              "      <td>8.877742</td>\n",
              "      <td>17.315112</td>\n",
              "      <td>7.733456</td>\n",
              "      <td>4.093440</td>\n",
              "      <td>5.591971</td>\n",
              "      <td>19.746453</td>\n",
              "      <td>22.614889</td>\n",
              "      <td>6.790452</td>\n",
              "      <td>20.803344</td>\n",
              "      <td>4.584549</td>\n",
              "      <td>7.519589</td>\n",
              "      <td>3.517346</td>\n",
              "      <td>31.612198</td>\n",
              "      <td>22.620072</td>\n",
              "      <td>25691.160000</td>\n",
              "      <td>1.000000</td>\n",
              "    </tr>\n",
              "  </tbody>\n",
              "</table>\n",
              "</div>"
            ],
            "text/plain": [
              "                 V1            V2  ...           V29        Target\n",
              "count  56962.000000  56962.000000  ...  56962.000000  56962.000000\n",
              "mean       0.013286      0.006610  ...     87.658797      0.001720\n",
              "std        1.941231      1.611224  ...    258.042879      0.041443\n",
              "min      -36.510583    -47.429676  ...      0.000000      0.000000\n",
              "25%       -0.908591     -0.600208  ...      5.615000      0.000000\n",
              "50%        0.036251      0.061840  ...     21.900000      0.000000\n",
              "75%        1.319727      0.801163  ...     77.500000      0.000000\n",
              "max        2.446505     18.902453  ...  25691.160000      1.000000\n",
              "\n",
              "[8 rows x 30 columns]"
            ]
          },
          "metadata": {
            "tags": []
          },
          "execution_count": 6
        }
      ]
    },
    {
      "cell_type": "code",
      "metadata": {
        "colab": {
          "base_uri": "https://localhost:8080/",
          "height": 295
        },
        "id": "yJi0M7cJla7X",
        "outputId": "f9787f0b-68b4-4238-da30-bd30ff36502a"
      },
      "source": [
        "ax = sns.countplot(y='Target',data=cred_card)\n",
        "\n",
        "total = len(cred_card['Target'])\n",
        "for p in ax.patches:\n",
        "        percentage = '{:.1f}%'.format(100 * p.get_width()/total)  \n",
        "        x = p.get_x() + p.get_width() + 0.02\n",
        "        y = p.get_y() + p.get_height()/2\n",
        "        ax.annotate(percentage, (x, y))\n",
        "\n",
        "ax.set_yticklabels(['Not Fraud','Fraud'])\n",
        "plt.title('Transaction counts!')\n",
        "plt.show()"
      ],
      "execution_count": 7,
      "outputs": [
        {
          "output_type": "display_data",
          "data": {
            "image/png": "[encoded data removed]",
            "text/plain": [
              "<Figure size 432x288 with 1 Axes>"
            ]
          },
          "metadata": {
            "tags": [],
            "needs_background": "light"
          }
        }
      ]
    },
    {
      "cell_type": "markdown",
      "metadata": {
        "id": "kLxEfCM-t3He"
      },
      "source": [
        "Around 99.8% transactions are not fraud and only 0.2% of them are fraud. We can now surely feel the presence of an imbalance classes in the dataset."
      ]
    },
    {
      "cell_type": "markdown",
      "metadata": {
        "id": "5vN8dkKyvaFn"
      },
      "source": [
        "One of the major issues when dealing with unbalanced datasets relates to the metrics used to evaluate their model. Using simpler metrics like accuracy score can be misleading. In a dataset with highly unbalanced classes, the classifier will always “predict” the most common class without performing any analysis of the features and it will have a high accuracy rate, obviously not the correct one.\n",
        "\n",
        "Let’s do this experiment, using simple XGBClassifier:"
      ]
    },
    {
      "cell_type": "code",
      "metadata": {
        "id": "UYIyThP8n6tk"
      },
      "source": [
        "#independent variable:\n",
        "X= cred_card.iloc[:,:-1]\n",
        "\n",
        "#dependent variable:\n",
        "y= cred_card.iloc[:,-1]"
      ],
      "execution_count": 8,
      "outputs": []
    },
    {
      "cell_type": "code",
      "metadata": {
        "id": "PuI6LYptvpaM"
      },
      "source": [
        "#Now splitting the dataset into training and testing set using train_test_split\n",
        "X_train, X_test, y_train, y_test = train_test_split(X, y, test_size=0.33, random_state=42)"
      ],
      "execution_count": 9,
      "outputs": []
    },
    {
      "cell_type": "code",
      "metadata": {
        "colab": {
          "base_uri": "https://localhost:8080/"
        },
        "id": "ddcxBHvQwj-A",
        "outputId": "8ab3336c-3876-4bde-fc12-8ba7b80e1ceb"
      },
      "source": [
        "print(\"Distribution of classes of dependent variable in train :\")\n",
        "print(y_train.value_counts())"
      ],
      "execution_count": 10,
      "outputs": [
        {
          "output_type": "stream",
          "text": [
            "Distribution of classes of dependent variable in train :\n",
            "0    38097\n",
            "1       67\n",
            "Name: Target, dtype: int64\n"
          ],
          "name": "stdout"
        }
      ]
    },
    {
      "cell_type": "code",
      "metadata": {
        "colab": {
          "base_uri": "https://localhost:8080/"
        },
        "id": "vxvDFUHAwxQN",
        "outputId": "c4ce852a-5060-41f3-8a3d-0b33c1c56d71"
      },
      "source": [
        "print(\"Distribution of classes of dependent variable in test :\")\n",
        "print(y_test.value_counts())"
      ],
      "execution_count": 11,
      "outputs": [
        {
          "output_type": "stream",
          "text": [
            "Distribution of classes of dependent variable in test :\n",
            "0    18767\n",
            "1       31\n",
            "Name: Target, dtype: int64\n"
          ],
          "name": "stdout"
        }
      ]
    },
    {
      "cell_type": "code",
      "metadata": {
        "colab": {
          "base_uri": "https://localhost:8080/"
        },
        "id": "Gto_6Auew-XB",
        "outputId": "becc25d7-b312-425f-bef8-02c1504384ab"
      },
      "source": [
        "#fitting a knn model before handling imbalance classification and lets check the roc_auc_score(not accuracy due to large majority class)\n",
        "\n",
        "from sklearn.neighbors import KNeighborsClassifier\n",
        "classifier = KNeighborsClassifier(n_neighbors=5, metric='minkowski',p=2) \n",
        "#p=2 indicates calculating Euclidean distance.\n",
        "#p=1 \"          \"          Manhattan distance.\n",
        "\n",
        "classifier.fit(X_train,y_train)"
      ],
      "execution_count": 12,
      "outputs": [
        {
          "output_type": "execute_result",
          "data": {
            "text/plain": [
              "KNeighborsClassifier(algorithm='auto', leaf_size=30, metric='minkowski',\n",
              "                     metric_params=None, n_jobs=None, n_neighbors=5, p=2,\n",
              "                     weights='uniform')"
            ]
          },
          "metadata": {
            "tags": []
          },
          "execution_count": 12
        }
      ]
    },
    {
      "cell_type": "code",
      "metadata": {
        "id": "KIZThTNMyjCa"
      },
      "source": [
        "y_pred= classifier.predict(X_test)"
      ],
      "execution_count": 13,
      "outputs": []
    },
    {
      "cell_type": "code",
      "metadata": {
        "colab": {
          "base_uri": "https://localhost:8080/"
        },
        "id": "v9LMwp1_ysRV",
        "outputId": "04c23a80-096f-4961-f787-cd3ed8259c5c"
      },
      "source": [
        "accuracy_score(y_pred,y_test) #very high accuracy(not a good metric for imbalanced dataset)"
      ],
      "execution_count": 14,
      "outputs": [
        {
          "output_type": "execute_result",
          "data": {
            "text/plain": [
              "0.9990956484732418"
            ]
          },
          "metadata": {
            "tags": []
          },
          "execution_count": 14
        }
      ]
    },
    {
      "cell_type": "code",
      "metadata": {
        "colab": {
          "base_uri": "https://localhost:8080/"
        },
        "id": "XmX2ugany-7m",
        "outputId": "b61da4de-27a8-4e4f-ead3-47eed372187d"
      },
      "source": [
        "confusion_matrix(y_pred,y_test)"
      ],
      "execution_count": 15,
      "outputs": [
        {
          "output_type": "execute_result",
          "data": {
            "text/plain": [
              "array([[18766,    16],\n",
              "       [    1,    15]])"
            ]
          },
          "metadata": {
            "tags": []
          },
          "execution_count": 15
        }
      ]
    },
    {
      "cell_type": "markdown",
      "metadata": {
        "id": "6ViEDrvYz9Uo"
      },
      "source": [
        "The confusion matrix clearly tells that the model has failed to classify the fraud ones. Only it could predict 15 of them as fraud while it's around 18766 of them, predicted as non-fraud."
      ]
    },
    {
      "cell_type": "markdown",
      "metadata": {
        "id": "ZgZKOts71enm"
      },
      "source": [
        "To handle imbalanced dataset or to made our model work well on an imbalanced dataset , we need to measure the model's performance in a well descriptive manner , we can't just go and measure the accuracy of the model , because we have 99% of data from class 0 , so it doesn't even matter that how well our model performed on minority class it's accuracy is always going to be very descent. so we should choose estimater wisely in case of Imbalanced dataset."
      ]
    },
    {
      "cell_type": "code",
      "metadata": {
        "colab": {
          "base_uri": "https://localhost:8080/"
        },
        "id": "xvo7ZkG41rg5",
        "outputId": "3cd33d0f-71a1-4c60-f65c-5402df2b0fee"
      },
      "source": [
        "print(classification_report(y_pred,y_test))"
      ],
      "execution_count": 16,
      "outputs": [
        {
          "output_type": "stream",
          "text": [
            "              precision    recall  f1-score   support\n",
            "\n",
            "           0       1.00      1.00      1.00     18782\n",
            "           1       0.48      0.94      0.64        16\n",
            "\n",
            "    accuracy                           1.00     18798\n",
            "   macro avg       0.74      0.97      0.82     18798\n",
            "weighted avg       1.00      1.00      1.00     18798\n",
            "\n"
          ],
          "name": "stdout"
        }
      ]
    },
    {
      "cell_type": "code",
      "metadata": {
        "colab": {
          "base_uri": "https://localhost:8080/"
        },
        "id": "zsP3F9Ipz8Rj",
        "outputId": "fa442e52-a27d-4266-8627-fbbb87761386"
      },
      "source": [
        "#roc_auc_score:\n",
        "\n",
        "roc_auc_score(y_pred,y_test)"
      ],
      "execution_count": 17,
      "outputs": [
        {
          "output_type": "execute_result",
          "data": {
            "text/plain": [
              "0.9683240602704717"
            ]
          },
          "metadata": {
            "tags": []
          },
          "execution_count": 17
        }
      ]
    },
    {
      "cell_type": "markdown",
      "metadata": {
        "id": "1JqwDSPU1OBn"
      },
      "source": [
        "## How to handle Imbalanced Dataset?"
      ]
    },
    {
      "cell_type": "markdown",
      "metadata": {
        "id": "IkqDEIXL2Sdj"
      },
      "source": [
        "**Random Sampling:** <br>\n",
        "One of the most widely used technique to handle imbalanced data (to make data balanced ) is Random sampling.<br>\n",
        "\n",
        "Random sampling majorly performed in two ways:\n",
        "\n",
        "1. **Random Under sampling**: This involves randomly selecting samples from the majority class and removing them from the training dataset.\n",
        "2. **Random Over sampling**: Random oversampling involves randomly selecting examples from the minority class, with replacement and adding them to the training dataset."
      ]
    },
    {
      "cell_type": "markdown",
      "metadata": {
        "id": "cooh92O7hZrA"
      },
      "source": [
        "Despite the advantage of balancing classes, these techniques also have their own weaknesses.\n",
        "\n",
        "The simplest implementation of **over-sampling** is to duplicate random records from the minority class, which can cause **overfitting**.\n",
        "\n",
        "In **under-sampling**, the simplest technique involves removing random records from the majority class, which can cause **loss of information**."
      ]
    },
    {
      "cell_type": "markdown",
      "metadata": {
        "id": "mBCzypWXhpO_"
      },
      "source": [
        "## Let’s implement this with the credit card fraud detection example."
      ]
    },
    {
      "cell_type": "code",
      "metadata": {
        "id": "WCsj0eLTztNN"
      },
      "source": [
        "class_count0, class_count1 = cred_card['Target'].value_counts()"
      ],
      "execution_count": 18,
      "outputs": []
    },
    {
      "cell_type": "code",
      "metadata": {
        "colab": {
          "base_uri": "https://localhost:8080/"
        },
        "id": "57dnHjXSh-Bh",
        "outputId": "22aa918f-67f5-4ca5-dd5a-0d75f3e572d5"
      },
      "source": [
        "print(class_count0)\n",
        "print(class_count1)"
      ],
      "execution_count": 19,
      "outputs": [
        {
          "output_type": "stream",
          "text": [
            "56864\n",
            "98\n"
          ],
          "name": "stdout"
        }
      ]
    },
    {
      "cell_type": "code",
      "metadata": {
        "colab": {
          "base_uri": "https://localhost:8080/"
        },
        "id": "6N_3Nth4iABB",
        "outputId": "11e7e85c-7c8d-4263-b7a5-039faff4bf67"
      },
      "source": [
        "#seperating class\n",
        "\n",
        "class_0 = cred_card[cred_card['Target']==0]\n",
        "class_1 = cred_card[cred_card['Target']==1]\n",
        "\n",
        "print('class 0:', class_0.shape)\n",
        "print('class 1:', class_1.shape)"
      ],
      "execution_count": 20,
      "outputs": [
        {
          "output_type": "stream",
          "text": [
            "class 0: (56864, 30)\n",
            "class 1: (98, 30)\n"
          ],
          "name": "stdout"
        }
      ]
    },
    {
      "cell_type": "markdown",
      "metadata": {
        "id": "ucHa9vuTjlP-"
      },
      "source": [
        "## 1. Random Under-Sampling"
      ]
    },
    {
      "cell_type": "markdown",
      "metadata": {
        "id": "5MsOqAiPjuB4"
      },
      "source": [
        "Undersampling can be defined as removing some observations of the majority class. This is done until the majority and minority class is balanced out."
      ]
    },
    {
      "cell_type": "code",
      "metadata": {
        "id": "TEwuVk3zi4cO"
      },
      "source": [
        "class_0_under = class_0.sample(class_count1)\n",
        "test_under = pd.concat([class_0_under,class_1],axis=0)"
      ],
      "execution_count": 21,
      "outputs": []
    },
    {
      "cell_type": "code",
      "metadata": {
        "colab": {
          "base_uri": "https://localhost:8080/"
        },
        "id": "dLOz6-zgmQNq",
        "outputId": "bc4669ee-714d-480f-9ec2-63e4af8c0db7"
      },
      "source": [
        "test_under['Target'].value_counts()"
      ],
      "execution_count": 22,
      "outputs": [
        {
          "output_type": "execute_result",
          "data": {
            "text/plain": [
              "1    98\n",
              "0    98\n",
              "Name: Target, dtype: int64"
            ]
          },
          "metadata": {
            "tags": []
          },
          "execution_count": 22
        }
      ]
    },
    {
      "cell_type": "code",
      "metadata": {
        "colab": {
          "base_uri": "https://localhost:8080/",
          "height": 295
        },
        "id": "rsltsSROmcT0",
        "outputId": "49f9ba79-cd90-4226-8135-52bf50730135"
      },
      "source": [
        "test_under['Target'].value_counts().plot(kind='bar',title= 'Target counts')"
      ],
      "execution_count": 23,
      "outputs": [
        {
          "output_type": "execute_result",
          "data": {
            "text/plain": [
              "<matplotlib.axes._subplots.AxesSubplot at 0x7fe6cc6b3610>"
            ]
          },
          "metadata": {
            "tags": []
          },
          "execution_count": 23
        },
        {
          "output_type": "display_data",
          "data": {
            "image/png": "[encoded data removed]",
            "text/plain": [
              "<Figure size 432x288 with 1 Axes>"
            ]
          },
          "metadata": {
            "tags": [],
            "needs_background": "light"
          }
        }
      ]
    },
    {
      "cell_type": "markdown",
      "metadata": {
        "id": "SD3sA8_Km8qa"
      },
      "source": [
        "Now, we have a undersampled the classes with equal proportion of both the classes."
      ]
    },
    {
      "cell_type": "markdown",
      "metadata": {
        "id": "WTw_OpkwqV_p"
      },
      "source": [
        "Alternative: Let's import the imblearn(imbalanced learn) library to do the undersampling "
      ]
    },
    {
      "cell_type": "code",
      "metadata": {
        "colab": {
          "base_uri": "https://localhost:8080/"
        },
        "id": "c780In25m4i5",
        "outputId": "c949f15b-39e3-4609-be69-f6ebb00d8a06"
      },
      "source": [
        "from imblearn.under_sampling import RandomUnderSampler\n",
        "rus = RandomUnderSampler(random_state=42, replacement=True)\n",
        "x_rus, y_rus = rus.fit_resample(cred_card.iloc[:,0:-1], cred_card['Target'])\n",
        "\n",
        "print('Original dataset shape:', len(cred_card))\n",
        "print('Resampled dataset shape', len(y_rus))\n",
        "print('Resampled dataset shape', len(x_rus))"
      ],
      "execution_count": 24,
      "outputs": [
        {
          "output_type": "stream",
          "text": [
            "Original dataset shape: 56962\n",
            "Resampled dataset shape 196\n",
            "Resampled dataset shape 196\n"
          ],
          "name": "stdout"
        },
        {
          "output_type": "stream",
          "text": [
            "/usr/local/lib/python3.7/dist-packages/sklearn/externals/six.py:31: FutureWarning: The module is deprecated in version 0.21 and will be removed in version 0.23 since we've dropped support for Python 2.7. Please rely on the official version of six (https://pypi.org/project/six/).\n",
            "  \"(https://pypi.org/project/six/).\", FutureWarning)\n",
            "/usr/local/lib/python3.7/dist-packages/sklearn/utils/deprecation.py:144: FutureWarning: The sklearn.neighbors.base module is  deprecated in version 0.22 and will be removed in version 0.24. The corresponding classes / functions should instead be imported from sklearn.neighbors. Anything that cannot be imported from sklearn.neighbors is now part of the private API.\n",
            "  warnings.warn(message, FutureWarning)\n",
            "/usr/local/lib/python3.7/dist-packages/sklearn/utils/deprecation.py:87: FutureWarning: Function safe_indexing is deprecated; safe_indexing is deprecated in version 0.22 and will be removed in version 0.24.\n",
            "  warnings.warn(msg, category=FutureWarning)\n"
          ],
          "name": "stderr"
        }
      ]
    },
    {
      "cell_type": "markdown",
      "metadata": {
        "id": "e02oqoguESn0"
      },
      "source": [
        "### 2. Random Over-Sampling"
      ]
    },
    {
      "cell_type": "markdown",
      "metadata": {
        "id": "vYHtgwekFV6O"
      },
      "source": [
        "Oversampling can be defined as adding more copies to the minority class. Oversampling can be a good choice when you don’t have a ton of data to work with."
      ]
    },
    {
      "cell_type": "code",
      "metadata": {
        "id": "VurEX5NvxL9P"
      },
      "source": [
        "class_1_over = class_1.sample(class_count0, replace=True)\n",
        "test_over = pd.concat([class_1_over, class_0], axis=0)"
      ],
      "execution_count": 25,
      "outputs": []
    },
    {
      "cell_type": "code",
      "metadata": {
        "colab": {
          "base_uri": "https://localhost:8080/"
        },
        "id": "ypVtF6JoGOzR",
        "outputId": "57abb80e-279f-44a1-b482-3d4f34c64a58"
      },
      "source": [
        "test_over['Target'].value_counts()"
      ],
      "execution_count": 26,
      "outputs": [
        {
          "output_type": "execute_result",
          "data": {
            "text/plain": [
              "1    56864\n",
              "0    56864\n",
              "Name: Target, dtype: int64"
            ]
          },
          "metadata": {
            "tags": []
          },
          "execution_count": 26
        }
      ]
    },
    {
      "cell_type": "code",
      "metadata": {
        "colab": {
          "base_uri": "https://localhost:8080/",
          "height": 295
        },
        "id": "tyL5HcMKHJQP",
        "outputId": "092721cc-c939-4863-ab4c-a80496a78ab9"
      },
      "source": [
        "test_over['Target'].value_counts().plot(kind='bar', title='count (Target)')"
      ],
      "execution_count": 27,
      "outputs": [
        {
          "output_type": "execute_result",
          "data": {
            "text/plain": [
              "<matplotlib.axes._subplots.AxesSubplot at 0x7fe6cb189f50>"
            ]
          },
          "metadata": {
            "tags": []
          },
          "execution_count": 27
        },
        {
          "output_type": "display_data",
          "data": {
            "image/png": "[encoded data removed]",
            "text/plain": [
              "<Figure size 432x288 with 1 Axes>"
            ]
          },
          "metadata": {
            "tags": [],
            "needs_background": "light"
          }
        }
      ]
    },
    {
      "cell_type": "code",
      "metadata": {
        "colab": {
          "base_uri": "https://localhost:8080/"
        },
        "id": "jhMUuiDhHNOg",
        "outputId": "236f64ee-401d-4190-ab0f-fc41216fc23f"
      },
      "source": [
        "from imblearn.over_sampling import RandomOverSampler\n",
        "\n",
        "ros = RandomOverSampler(random_state=42)\n",
        "x_ros, y_ros = ros.fit_resample(cred_card.iloc[:,0:-1], cred_card['Target'])\n",
        "print('Original dataset shape:', len(cred_card))\n",
        "print('Resampled dataset shape', len(y_ros))"
      ],
      "execution_count": 28,
      "outputs": [
        {
          "output_type": "stream",
          "text": [
            "Original dataset shape: 56962\n",
            "Resampled dataset shape 113728\n"
          ],
          "name": "stdout"
        },
        {
          "output_type": "stream",
          "text": [
            "/usr/local/lib/python3.7/dist-packages/sklearn/utils/deprecation.py:87: FutureWarning: Function safe_indexing is deprecated; safe_indexing is deprecated in version 0.22 and will be removed in version 0.24.\n",
            "  warnings.warn(msg, category=FutureWarning)\n"
          ],
          "name": "stderr"
        }
      ]
    },
    {
      "cell_type": "markdown",
      "metadata": {
        "id": "w6GJe2cTI19u"
      },
      "source": [
        "### 3. Synthetic Minority Oversampling Technique (SMOTE)"
      ]
    },
    {
      "cell_type": "markdown",
      "metadata": {
        "id": "vKsGDfUoJGl1"
      },
      "source": [
        "This technique generates synthetic data for the minority class.\n",
        "\n",
        "SMOTE (Synthetic Minority Oversampling Technique) works by randomly picking a point from the minority class and computing the k-nearest neighbors for this point. The synthetic points are added between the chosen point and its neighbors."
      ]
    },
    {
      "cell_type": "markdown",
      "metadata": {
        "id": "aHqv-sKIJDk8"
      },
      "source": [
        "![image.png](data:image/png;base64,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)"
      ]
    },
    {
      "cell_type": "markdown",
      "metadata": {
        "id": "HWVrpilsL8Ze"
      },
      "source": [
        "SMOTE first selects a minority class instance a at random and finds its k nearest minority class neighbors. The synthetic instance is then created by choosing one of the k nearest neighbors b at random and connecting a and b to form a line segment in the feature space. The synthetic instances are generated as a convex combination of the two chosen instances a and b."
      ]
    },
    {
      "cell_type": "code",
      "metadata": {
        "id": "djCoJsiNIZdy",
        "colab": {
          "base_uri": "https://localhost:8080/"
        },
        "outputId": "beb4fe84-3cc6-4abb-cf15-5d60d8bf040d"
      },
      "source": [
        "from imblearn.over_sampling import SMOTE\n",
        "\n",
        "smote = SMOTE()\n",
        "\n",
        "x_smote, y_smote = smote.fit_resample(X_train,y_train) #cred_card.iloc[:,:-1], cred_card['Target']\n",
        "print('Original dataset shape', len(cred_card))\n",
        "print('Resampled dataset shape', len(y_smote))"
      ],
      "execution_count": 29,
      "outputs": [
        {
          "output_type": "stream",
          "text": [
            "/usr/local/lib/python3.7/dist-packages/sklearn/utils/deprecation.py:87: FutureWarning: Function safe_indexing is deprecated; safe_indexing is deprecated in version 0.22 and will be removed in version 0.24.\n",
            "  warnings.warn(msg, category=FutureWarning)\n"
          ],
          "name": "stderr"
        },
        {
          "output_type": "stream",
          "text": [
            "Original dataset shape 56962\n",
            "Resampled dataset shape 76194\n"
          ],
          "name": "stdout"
        }
      ]
    },
    {
      "cell_type": "code",
      "metadata": {
        "colab": {
          "base_uri": "https://localhost:8080/"
        },
        "id": "fLFhsCjddx0c",
        "outputId": "3b2094c7-345c-4cab-e1d4-e2cdc3bb603e"
      },
      "source": [
        "print(\"Label 1, After using SMOTE: {}\".format(sum(y_smote==1)))\n",
        "print(\"Label 0, After using SMOTE: {}\".format(sum(y_smote==0)))"
      ],
      "execution_count": 30,
      "outputs": [
        {
          "output_type": "stream",
          "text": [
            "Label 1, After using SMOTE: 38097\n",
            "Label 0, After using SMOTE: 38097\n"
          ],
          "name": "stdout"
        }
      ]
    },
    {
      "cell_type": "markdown",
      "metadata": {
        "id": "N4b6m57T77vE"
      },
      "source": [
        "### 4. Penalize Algorithms (Cost-Sensitive Training)"
      ]
    },
    {
      "cell_type": "markdown",
      "metadata": {
        "id": "DTu60Tv78Mlc"
      },
      "source": [
        "The next tactic is to use penalized learning algorithms that increase the cost of classification mistakes on the minority class.\n",
        "\n",
        "A popular algorithm for this technique is **Penalized-SVM**.\n",
        "\n",
        "During training, we can use the argument class_weight=’balanced’ to penalize mistakes on the minority class by an amount proportional to how under-represented it is."
      ]
    },
    {
      "cell_type": "code",
      "metadata": {
        "colab": {
          "base_uri": "https://localhost:8080/"
        },
        "id": "Go8juCUqxxZx",
        "outputId": "870c11e8-29c0-4490-d71b-79ab978dd7cf"
      },
      "source": [
        "from sklearn.svm import SVC\n",
        "\n",
        "# we can add class_weight='balanced' to add penalize mistake\n",
        "svc_model = SVC(class_weight='balanced', probability=True)\n",
        "\n",
        "svc_model.fit(X_train, y_train)\n",
        "\n",
        "svc_predict = svc_model.predict(X_test)\n",
        "print('ROCAUC score:',roc_auc_score(y_test, svc_predict))\n",
        "print('Accuracy score:',accuracy_score(y_test, svc_predict))"
      ],
      "execution_count": 31,
      "outputs": [
        {
          "output_type": "stream",
          "text": [
            "ROCAUC score: 0.9137599114437319\n",
            "Accuracy score: 0.9885626130439409\n"
          ],
          "name": "stdout"
        }
      ]
    },
    {
      "cell_type": "markdown",
      "metadata": {
        "id": "bEaXyEyuaRgh"
      },
      "source": [
        "## Implementing SMOTE with other models and checking the best model:"
      ]
    },
    {
      "cell_type": "markdown",
      "metadata": {
        "id": "knCb1zJwpYZd"
      },
      "source": [
        "Logistic Regression + SMOTE"
      ]
    },
    {
      "cell_type": "code",
      "metadata": {
        "colab": {
          "base_uri": "https://localhost:8080/"
        },
        "id": "S4g80LFVpXsa",
        "outputId": "27cc1004-8114-451e-9f3a-7f3446d76295"
      },
      "source": [
        "clf_lr = LogisticRegression()\n",
        "clf_lr.fit(x_smote,y_smote)\n",
        "y_pred_lr = clf_lr.predict(X_test)\n",
        "\n",
        "acc_lr = accuracy_score(y_test, y_pred_lr)\n",
        "conf_lr = confusion_matrix(y_test, y_pred_lr)\n",
        "clf_report_lr = classification_report(y_test, y_pred_lr)\n",
        "\n",
        "print(f\"Accuracy Score of Logistic Regression : {acc_lr}\")\n",
        "print(f\"Confusion Matrix : \\n{conf_lr}\")\n",
        "print(f\"Classification Report : \\n{clf_report_lr}\")"
      ],
      "execution_count": 32,
      "outputs": [
        {
          "output_type": "stream",
          "text": [
            "Accuracy Score of Logistic Regression : 0.9825513352484306\n",
            "Confusion Matrix : \n",
            "[[18443   324]\n",
            " [    4    27]]\n",
            "Classification Report : \n",
            "              precision    recall  f1-score   support\n",
            "\n",
            "           0       1.00      0.98      0.99     18767\n",
            "           1       0.08      0.87      0.14        31\n",
            "\n",
            "    accuracy                           0.98     18798\n",
            "   macro avg       0.54      0.93      0.57     18798\n",
            "weighted avg       1.00      0.98      0.99     18798\n",
            "\n"
          ],
          "name": "stdout"
        },
        {
          "output_type": "stream",
          "text": [
            "/usr/local/lib/python3.7/dist-packages/sklearn/linear_model/_logistic.py:940: ConvergenceWarning: lbfgs failed to converge (status=1):\n",
            "STOP: TOTAL NO. of ITERATIONS REACHED LIMIT.\n",
            "\n",
            "Increase the number of iterations (max_iter) or scale the data as shown in:\n",
            "    https://scikit-learn.org/stable/modules/preprocessing.html\n",
            "Please also refer to the documentation for alternative solver options:\n",
            "    https://scikit-learn.org/stable/modules/linear_model.html#logistic-regression\n",
            "  extra_warning_msg=_LOGISTIC_SOLVER_CONVERGENCE_MSG)\n"
          ],
          "name": "stderr"
        }
      ]
    },
    {
      "cell_type": "code",
      "metadata": {
        "colab": {
          "base_uri": "https://localhost:8080/"
        },
        "id": "Q3u4hx6Bq4mE",
        "outputId": "5c9206fb-6215-44bf-9a0c-72620a684682"
      },
      "source": [
        "auc_score=roc_auc_score(y_test, y_pred_lr)\n",
        "print('AUC =' ,auc_score)"
      ],
      "execution_count": 33,
      "outputs": [
        {
          "output_type": "stream",
          "text": [
            "AUC = 0.9268516974717117\n"
          ],
          "name": "stdout"
        }
      ]
    },
    {
      "cell_type": "code",
      "metadata": {
        "colab": {
          "base_uri": "https://localhost:8080/",
          "height": 295
        },
        "id": "6_r7xTP_rOk4",
        "outputId": "8f3f31be-f783-40b7-98c4-35406424d775"
      },
      "source": [
        "fpr, tpr, threshold = metrics.roc_curve(y_test, y_pred_lr)\n",
        "roc_auc = metrics.auc(fpr, tpr)\n",
        "plt.title('Receiver Operating Characteristic')\n",
        "plt.plot(fpr, tpr, 'b', label = 'AUC = %0.2f' % roc_auc)\n",
        "plt.legend(loc = 'lower right')\n",
        "plt.plot([0, 1], [0, 1],'r--')\n",
        "plt.xlim([0, 1])\n",
        "plt.ylim([0, 1])\n",
        "plt.ylabel('True Positive Rate')\n",
        "plt.xlabel('False Positive Rate')\n",
        "plt.show()"
      ],
      "execution_count": 34,
      "outputs": [
        {
          "output_type": "display_data",
          "data": {
            "image/png": "[encoded data removed]",
            "text/plain": [
              "<Figure size 432x288 with 1 Axes>"
            ]
          },
          "metadata": {
            "tags": [],
            "needs_background": "light"
          }
        }
      ]
    },
    {
      "cell_type": "markdown",
      "metadata": {
        "id": "XpC9sylIii8W"
      },
      "source": [
        "### Random forest+SMOTE"
      ]
    },
    {
      "cell_type": "code",
      "metadata": {
        "colab": {
          "base_uri": "https://localhost:8080/"
        },
        "id": "t0yQmyoqbFf-",
        "outputId": "59533b9b-2531-415a-ea3b-d12f26c80d52"
      },
      "source": [
        "random_clf = RandomForestClassifier()\n",
        "random_clf.fit(x_smote, y_smote)\n",
        "y_pred_random_clf = random_clf.predict(X_test)\n",
        "\n",
        "acc_rd_clf = accuracy_score(y_test, y_pred_random_clf)\n",
        "conf = confusion_matrix(y_test, y_pred_random_clf)\n",
        "clf_report = classification_report(y_test, y_pred_random_clf)\n",
        "\n",
        "print(f\"Accuracy Score of Random Forest is : {acc_rd_clf}\")\n",
        "print(f\"Confusion Matrix : \\n{conf}\")\n",
        "print(f\"Classification Report : \\n{clf_report}\")"
      ],
      "execution_count": 35,
      "outputs": [
        {
          "output_type": "stream",
          "text": [
            "Accuracy Score of Random Forest is : 0.9994680285136717\n",
            "Confusion Matrix : \n",
            "[[18762     5]\n",
            " [    5    26]]\n",
            "Classification Report : \n",
            "              precision    recall  f1-score   support\n",
            "\n",
            "           0       1.00      1.00      1.00     18767\n",
            "           1       0.84      0.84      0.84        31\n",
            "\n",
            "    accuracy                           1.00     18798\n",
            "   macro avg       0.92      0.92      0.92     18798\n",
            "weighted avg       1.00      1.00      1.00     18798\n",
            "\n"
          ],
          "name": "stdout"
        }
      ]
    },
    {
      "cell_type": "code",
      "metadata": {
        "colab": {
          "base_uri": "https://localhost:8080/"
        },
        "id": "SdvJZUH4df6W",
        "outputId": "47637b52-dad5-4c37-edd4-9a9412966c35"
      },
      "source": [
        "auc_score=roc_auc_score(y_test, y_pred_random_clf)\n",
        "print('AUC =' ,auc_score)"
      ],
      "execution_count": 36,
      "outputs": [
        {
          "output_type": "stream",
          "text": [
            "AUC = 0.9192216261557263\n"
          ],
          "name": "stdout"
        }
      ]
    },
    {
      "cell_type": "code",
      "metadata": {
        "colab": {
          "base_uri": "https://localhost:8080/",
          "height": 295
        },
        "id": "hXFpJ9X5eqBz",
        "outputId": "4f2e7bd5-ae77-4da1-d346-02348e46231b"
      },
      "source": [
        "fpr, tpr, threshold = metrics.roc_curve(y_test, y_pred_random_clf)\n",
        "roc_auc = metrics.auc(fpr, tpr)\n",
        "plt.title('Receiver Operating Characteristic')\n",
        "plt.plot(fpr, tpr, 'b', label = 'AUC = %0.2f' % roc_auc)\n",
        "plt.legend(loc = 'lower right')\n",
        "plt.plot([0, 1], [0, 1],'r--')\n",
        "plt.xlim([0, 1])\n",
        "plt.ylim([0, 1])\n",
        "plt.ylabel('True Positive Rate')\n",
        "plt.xlabel('False Positive Rate')\n",
        "plt.show()"
      ],
      "execution_count": 37,
      "outputs": [
        {
          "output_type": "display_data",
          "data": {
            "image/png": "[encoded data removed]",
            "text/plain": [
              "<Figure size 432x288 with 1 Axes>"
            ]
          },
          "metadata": {
            "tags": [],
            "needs_background": "light"
          }
        }
      ]
    },
    {
      "cell_type": "markdown",
      "metadata": {
        "id": "xO7b7ds_ipzF"
      },
      "source": [
        "### Gradient Boosting + SMOTE"
      ]
    },
    {
      "cell_type": "code",
      "metadata": {
        "colab": {
          "base_uri": "https://localhost:8080/"
        },
        "id": "vpJRixbZe3Np",
        "outputId": "b0fd7f66-d790-432e-dd4e-4e2e9890ab52"
      },
      "source": [
        "from sklearn.ensemble import GradientBoostingClassifier\n",
        "modelgb = GradientBoostingClassifier()\n",
        "modelgb.fit(x_smote,y_smote)\n",
        "\n",
        "y_predgb= modelgb.predict(X_test)\n",
        "\n",
        "acc_gb = accuracy_score(y_test, y_predgb)\n",
        "confgb = confusion_matrix(y_test, y_predgb)\n",
        "clf_reportgb = classification_report(y_test, y_predgb)\n",
        "\n",
        "print(f\"Accuracy Score of Gradient Boosting classifier is : {acc_gb}\")\n",
        "print(f\"Confusion Matrix : \\n{confgb}\")\n",
        "print(f\"Classification Report : \\n{clf_reportgb}\")"
      ],
      "execution_count": 38,
      "outputs": [
        {
          "output_type": "stream",
          "text": [
            "Accuracy Score of Gradient Boosting classifier is : 0.99680817108203\n",
            "Confusion Matrix : \n",
            "[[18714    53]\n",
            " [    7    24]]\n",
            "Classification Report : \n",
            "              precision    recall  f1-score   support\n",
            "\n",
            "           0       1.00      1.00      1.00     18767\n",
            "           1       0.31      0.77      0.44        31\n",
            "\n",
            "    accuracy                           1.00     18798\n",
            "   macro avg       0.66      0.89      0.72     18798\n",
            "weighted avg       1.00      1.00      1.00     18798\n",
            "\n"
          ],
          "name": "stdout"
        }
      ]
    },
    {
      "cell_type": "code",
      "metadata": {
        "colab": {
          "base_uri": "https://localhost:8080/"
        },
        "id": "BeAoMxhDwthf",
        "outputId": "9c51b2b1-dafb-4057-8096-5abe433b7f5c"
      },
      "source": [
        "auc_score=roc_auc_score(y_test, y_predgb)\n",
        "print('AUC =' ,auc_score)"
      ],
      "execution_count": 39,
      "outputs": [
        {
          "output_type": "stream",
          "text": [
            "AUC = 0.885684721121667\n"
          ],
          "name": "stdout"
        }
      ]
    },
    {
      "cell_type": "code",
      "metadata": {
        "colab": {
          "base_uri": "https://localhost:8080/",
          "height": 295
        },
        "id": "oes_gGmsxCDH",
        "outputId": "143d5032-217e-4813-a6ed-f2fd499b29ea"
      },
      "source": [
        "fpr, tpr, threshold = metrics.roc_curve(y_test, y_predgb)\n",
        "roc_auc = metrics.auc(fpr, tpr)\n",
        "plt.title('Receiver Operating Characteristic')\n",
        "plt.plot(fpr, tpr, 'b', label = 'AUC = %0.2f' % roc_auc)\n",
        "plt.legend(loc = 'lower right')\n",
        "plt.plot([0, 1], [0, 1],'r--')\n",
        "plt.xlim([0, 1])\n",
        "plt.ylim([0, 1])\n",
        "plt.ylabel('True Positive Rate')\n",
        "plt.xlabel('False Positive Rate')\n",
        "plt.show()"
      ],
      "execution_count": 40,
      "outputs": [
        {
          "output_type": "display_data",
          "data": {
            "image/png": "[encoded data removed]",
            "text/plain": [
              "<Figure size 432x288 with 1 Axes>"
            ]
          },
          "metadata": {
            "tags": [],
            "needs_background": "light"
          }
        }
      ]
    },
    {
      "cell_type": "markdown",
      "metadata": {
        "id": "bPiuRtzPnwse"
      },
      "source": [
        "### XG Boost + SMOTE"
      ]
    },
    {
      "cell_type": "code",
      "metadata": {
        "id": "HXJ1B2Umooju"
      },
      "source": [
        "test_x = X_test.values"
      ],
      "execution_count": 41,
      "outputs": []
    },
    {
      "cell_type": "code",
      "metadata": {
        "colab": {
          "base_uri": "https://localhost:8080/"
        },
        "id": "xvOfLrm5lESz",
        "outputId": "835622ca-cef2-4128-c94b-f7f5af24d1e2"
      },
      "source": [
        "from xgboost import XGBClassifier\n",
        "\n",
        "xgb_model = XGBClassifier()\n",
        "xgb_model.fit(x_smote, y_smote)\n",
        "\n",
        "# predict\n",
        "xgb_y_predict = xgb_model.predict(test_x)\n",
        "\n",
        "print('ROCAUC score:', roc_auc_score(y_test, xgb_y_predict))\n",
        "print('Accuracy score:', accuracy_score(y_test, xgb_y_predict))"
      ],
      "execution_count": 42,
      "outputs": [
        {
          "output_type": "stream",
          "text": [
            "ROCAUC score: 0.9176763605298939\n",
            "Accuracy score: 0.9963825938929673\n"
          ],
          "name": "stdout"
        }
      ]
    },
    {
      "cell_type": "code",
      "metadata": {
        "colab": {
          "base_uri": "https://localhost:8080/"
        },
        "id": "I-HCL-EOn87-",
        "outputId": "67fc73ff-e34f-409b-fc2b-d37fc5522925"
      },
      "source": [
        "acc_xgb = accuracy_score(y_test, xgb_y_predict)\n",
        "conf_xgb = confusion_matrix(y_test, xgb_y_predict)\n",
        "clf_report_xgb = classification_report(y_test, xgb_y_predict)\n",
        "\n",
        "print(f\"Accuracy Score of Random Forest is : {acc_xgb}\")\n",
        "print(f\"Confusion Matrix : \\n{conf_xgb}\")\n",
        "print(f\"Classification Report : \\n{clf_report_xgb}\")"
      ],
      "execution_count": 43,
      "outputs": [
        {
          "output_type": "stream",
          "text": [
            "Accuracy Score of Random Forest is : 0.9963825938929673\n",
            "Confusion Matrix : \n",
            "[[18704    63]\n",
            " [    5    26]]\n",
            "Classification Report : \n",
            "              precision    recall  f1-score   support\n",
            "\n",
            "           0       1.00      1.00      1.00     18767\n",
            "           1       0.29      0.84      0.43        31\n",
            "\n",
            "    accuracy                           1.00     18798\n",
            "   macro avg       0.65      0.92      0.72     18798\n",
            "weighted avg       1.00      1.00      1.00     18798\n",
            "\n"
          ],
          "name": "stdout"
        }
      ]
    },
    {
      "cell_type": "code",
      "metadata": {
        "colab": {
          "base_uri": "https://localhost:8080/"
        },
        "id": "OR66wBVAxRdZ",
        "outputId": "5aaf0da6-1940-4839-e478-315f4d45b975"
      },
      "source": [
        "#auc score:\n",
        "auc_score=roc_auc_score(y_test, xgb_y_predict)\n",
        "print('AUC =' ,auc_score)"
      ],
      "execution_count": 44,
      "outputs": [
        {
          "output_type": "stream",
          "text": [
            "AUC = 0.9176763605298939\n"
          ],
          "name": "stdout"
        }
      ]
    },
    {
      "cell_type": "code",
      "metadata": {
        "colab": {
          "base_uri": "https://localhost:8080/",
          "height": 295
        },
        "id": "vL3MGbm1xRdb",
        "outputId": "4d477cc0-54cf-4356-f215-b464dce7fbcd"
      },
      "source": [
        "#ROC-AUC curve:\n",
        "fpr, tpr, threshold = metrics.roc_curve(y_test, xgb_y_predict)\n",
        "roc_auc = metrics.auc(fpr, tpr)\n",
        "plt.title('Receiver Operating Characteristic')\n",
        "plt.plot(fpr, tpr, 'b', label = 'AUC = %0.2f' % roc_auc)\n",
        "plt.legend(loc = 'lower right')\n",
        "plt.plot([0, 1], [0, 1],'r--')\n",
        "plt.xlim([0, 1])\n",
        "plt.ylim([0, 1])\n",
        "plt.ylabel('True Positive Rate')\n",
        "plt.xlabel('False Positive Rate')\n",
        "plt.show()"
      ],
      "execution_count": 45,
      "outputs": [
        {
          "output_type": "display_data",
          "data": {
            "image/png": "[encoded data removed]",
            "text/plain": [
              "<Figure size 432x288 with 1 Axes>"
            ]
          },
          "metadata": {
            "tags": [],
            "needs_background": "light"
          }
        }
      ]
    },
    {
      "cell_type": "markdown",
      "metadata": {
        "id": "GNu-4Ik2mg3t"
      },
      "source": [
        "### ADABOOST + SMOTE"
      ]
    },
    {
      "cell_type": "code",
      "metadata": {
        "colab": {
          "base_uri": "https://localhost:8080/"
        },
        "id": "QydiRwogmY64",
        "outputId": "4d4b87d4-4d30-4e4c-ad47-9d894e153fd7"
      },
      "source": [
        "from sklearn.ensemble import AdaBoostClassifier\n",
        "ada_model = AdaBoostClassifier()\n",
        "ada_model.fit(x_smote,y_smote)\n",
        "y_pred_ab= ada_model.predict(X_test)\n",
        "\n",
        "acc_ab = accuracy_score(y_test, y_pred_ab)\n",
        "conf_ab = confusion_matrix(y_test, y_pred_ab)\n",
        "clf_report_ab = classification_report(y_test, y_pred_ab)\n",
        "\n",
        "print(f\"Accuracy Score of Gradient Boosting classifier is : {acc_ab}\")\n",
        "print(f\"Confusion Matrix : \\n{conf_ab}\")\n",
        "print(f\"Classification Report : \\n{clf_report_ab}\")"
      ],
      "execution_count": 46,
      "outputs": [
        {
          "output_type": "stream",
          "text": [
            "Accuracy Score of Gradient Boosting classifier is : 0.992658793488669\n",
            "Confusion Matrix : \n",
            "[[18635   132]\n",
            " [    6    25]]\n",
            "Classification Report : \n",
            "              precision    recall  f1-score   support\n",
            "\n",
            "           0       1.00      0.99      1.00     18767\n",
            "           1       0.16      0.81      0.27        31\n",
            "\n",
            "    accuracy                           0.99     18798\n",
            "   macro avg       0.58      0.90      0.63     18798\n",
            "weighted avg       1.00      0.99      1.00     18798\n",
            "\n"
          ],
          "name": "stdout"
        }
      ]
    },
    {
      "cell_type": "code",
      "metadata": {
        "colab": {
          "base_uri": "https://localhost:8080/"
        },
        "id": "irwXJmj8nzjm",
        "outputId": "b1dbfd27-08aa-4fdc-f30a-c0786cc53d9e"
      },
      "source": [
        "#auc score:\n",
        "auc_score=roc_auc_score(y_test, y_pred_ab)\n",
        "print('AUC =' ,auc_score)"
      ],
      "execution_count": 47,
      "outputs": [
        {
          "output_type": "stream",
          "text": [
            "AUC = 0.8997089950273042\n"
          ],
          "name": "stdout"
        }
      ]
    },
    {
      "cell_type": "markdown",
      "metadata": {
        "id": "r8tiECJ964P0"
      },
      "source": [
        "## Using automatic anomaly detection techniques to fit the model by using Isolation Forest, Local Outlier factor & OneClassSVM"
      ]
    },
    {
      "cell_type": "code",
      "metadata": {
        "colab": {
          "base_uri": "https://localhost:8080/"
        },
        "id": "JEuavGyXEb4T",
        "outputId": "b80110e0-e6e0-4aca-8d0d-17b145b44bc5"
      },
      "source": [
        "#Determine the number of fraud and valid transactions in the dataset\n",
        "\n",
        "Fraud = cred_card[cred_card['Target']==1]\n",
        "print(f'The fraud transactions are:',len(Fraud))\n",
        "Valid = cred_card[cred_card['Target']==0]\n",
        "print(f'The non-fraud transactions are:',len(Valid))\n",
        "outlier_fraction = len(Fraud)/float(len(Valid))\n",
        "print(f'The outlier fraction is:',outlier_fraction)"
      ],
      "execution_count": 48,
      "outputs": [
        {
          "output_type": "stream",
          "text": [
            "The fraud transactions are: 98\n",
            "The non-fraud transactions are: 56864\n",
            "The outlier fraction is: 0.0017234102419808666\n"
          ],
          "name": "stdout"
        }
      ]
    },
    {
      "cell_type": "markdown",
      "metadata": {
        "id": "76qXtxyQAiyF"
      },
      "source": [
        "### Isolation Forest:"
      ]
    },
    {
      "cell_type": "markdown",
      "metadata": {
        "id": "s_BFhqvvAojc"
      },
      "source": [
        "The Isolation Forest algorithm isolates observations by randomly selecting a feature and then randomly selecting a split value between the maximum and minimum values of the selected feature. The logic argument goes: isolating anomaly observations is easier because only a few conditions are needed to separate those cases from the normal observations. On the other hand, isolating normal observations require more conditions. Therefore, an anomaly score can be calculated as the number of conditions required to separate a given observation."
      ]
    },
    {
      "cell_type": "markdown",
      "metadata": {
        "id": "NlXcflZTAwPy"
      },
      "source": [
        "### Local Outlier Factor:"
      ]
    },
    {
      "cell_type": "markdown",
      "metadata": {
        "id": "i8eHvHk9BKHa"
      },
      "source": [
        "The LOF algorithm is an unsupervised outlier detection method which computes the local density deviation of a given data point with respect to its neighbors. It considers as outlier samples that have a substantially lower density than their neighbors."
      ]
    },
    {
      "cell_type": "code",
      "metadata": {
        "id": "HNkmI_ea4dXh"
      },
      "source": [
        "#Define the outlier detection methods\n",
        "\n",
        "classifiers = {\n",
        "    \"Isolation Forest\":IsolationForest(n_estimators=100, max_samples=len(X), \n",
        "                                       contamination='auto',random_state=42, verbose=0),\n",
        "    \"Local Outlier Factor\":LocalOutlierFactor(n_neighbors=20, algorithm='auto', \n",
        "                                              leaf_size=30, metric='minkowski',\n",
        "                                              p=2, metric_params=None, contamination='auto'),\n",
        "    \"Support Vector Machine\":OneClassSVM(kernel='rbf', degree=3, gamma=0.1,nu=0.05, \n",
        "                                         max_iter=-1)\n",
        "    }"
      ],
      "execution_count": 49,
      "outputs": []
    },
    {
      "cell_type": "code",
      "metadata": {
        "colab": {
          "base_uri": "https://localhost:8080/"
        },
        "id": "s11vGdFeCl2d",
        "outputId": "26158262-b9b0-48d2-fc7e-1a3cc189a564"
      },
      "source": [
        "n_outliers = len(Fraud)\n",
        "for i, (clf_name,clf) in enumerate(classifiers.items()):\n",
        "    #Fit the data and tag outliers\n",
        "    if clf_name == \"Local Outlier Factor\":\n",
        "        y_pred = clf.fit_predict(X)\n",
        "        scores_prediction = clf.negative_outlier_factor_\n",
        "    elif clf_name == \"Support Vector Machine\":\n",
        "        clf.fit(X)\n",
        "        y_pred = clf.predict(X)\n",
        "    else:    \n",
        "        clf.fit(X)\n",
        "        scores_prediction = clf.decision_function(X)\n",
        "        y_pred = clf.predict(X)\n",
        "    #Reshape the prediction values to 0 for Valid transactions , 1 for Fraud transactions\n",
        "    y_pred[y_pred == 1] = 0\n",
        "    y_pred[y_pred == -1] = 1\n",
        "    n_errors = (y_pred != y).sum()\n",
        "    # Run Classification Metrics\n",
        "    print(\"{}: {}\".format(clf_name,n_errors))\n",
        "    print(\"Accuracy Score :\")\n",
        "    print(accuracy_score(y,y_pred))\n",
        "    print(\"Classification Report :\")\n",
        "    print(classification_report(y,y_pred))"
      ],
      "execution_count": 50,
      "outputs": [
        {
          "output_type": "stream",
          "text": [
            "Isolation Forest: 189\n",
            "Accuracy Score :\n",
            "0.9966819985253327\n",
            "Classification Report :\n",
            "              precision    recall  f1-score   support\n",
            "\n",
            "           0       1.00      1.00      1.00     56864\n",
            "           1       0.25      0.46      0.32        98\n",
            "\n",
            "    accuracy                           1.00     56962\n",
            "   macro avg       0.62      0.73      0.66     56962\n",
            "weighted avg       1.00      1.00      1.00     56962\n",
            "\n",
            "Local Outlier Factor: 2390\n",
            "Accuracy Score :\n",
            "0.9580422035743127\n",
            "Classification Report :\n",
            "              precision    recall  f1-score   support\n",
            "\n",
            "           0       1.00      0.96      0.98     56864\n",
            "           1       0.02      0.48      0.04        98\n",
            "\n",
            "    accuracy                           0.96     56962\n",
            "   macro avg       0.51      0.72      0.51     56962\n",
            "weighted avg       1.00      0.96      0.98     56962\n",
            "\n",
            "Support Vector Machine: 7778\n",
            "Accuracy Score :\n",
            "0.863452828201257\n",
            "Classification Report :\n",
            "              precision    recall  f1-score   support\n",
            "\n",
            "           0       1.00      0.86      0.93     56864\n",
            "           1       0.00      0.35      0.01        98\n",
            "\n",
            "    accuracy                           0.86     56962\n",
            "   macro avg       0.50      0.61      0.47     56962\n",
            "weighted avg       1.00      0.86      0.93     56962\n",
            "\n"
          ],
          "name": "stdout"
        }
      ]
    },
    {
      "cell_type": "markdown",
      "metadata": {
        "id": "QVNzeL3ubmpv"
      },
      "source": [
        "## Inferences: <br>\n",
        "\n",
        "1. We saw that **XGBoost** performed relatively well with applying SMOTE than other models like adaboost & logistic regression which has higher AUC score of 0.93 than other models signifies a better performance with SMOTE.\n",
        "2. **Isolation Forest** detected 189 errors versus Local Outlier Factor detecting 2390 errors vs. SVM detecting 7778 errors.\n",
        "3. Isolation forest exhibits a better acuuracy with relatively good f1-score for both the classes and can be considered a better anomaly detection technique. Performs way better than the other automatic outlier removal techniques like Local Outlier Factor(LOF), OneClassSVM. "
      ]
    },
    {
      "cell_type": "markdown",
      "metadata": {
        "id": "u-P4YENXCPYW"
      },
      "source": [
        "## Using SMOTE + Deep Neural Network to solve this!"
      ]
    },
    {
      "cell_type": "code",
      "metadata": {
        "id": "lJyMyUrHCOXf"
      },
      "source": [
        "# Splitting the dataset into the Training set and Test set\n",
        "x_train, x_test, y_train, y_test = train_test_split(x_smote, y_smote, test_size = 0.2, random_state = 3)"
      ],
      "execution_count": 52,
      "outputs": []
    },
    {
      "cell_type": "code",
      "metadata": {
        "id": "JiDm-9_nChSd"
      },
      "source": [
        "# DNN\n",
        "from tensorflow import keras\n",
        "\n",
        "def get_model():\n",
        "    model = keras.Sequential([\n",
        "        keras.layers.Flatten(input_shape=[X_train.shape[-1]]), #input layer\n",
        "        keras.layers.Dense(512, activation='relu'),#hidden layers\n",
        "        keras.layers.Dense(256, activation='relu'),\n",
        "        keras.layers.Dense(128, activation='relu'),\n",
        "        keras.layers.Dense(64, activation='relu'),\n",
        "        keras.layers.Dense(32, activation='relu'),\n",
        "        keras.layers.Dropout(0.5), \n",
        "        keras.layers.Dense(9, activation='softmax')\n",
        "    ])\n",
        "    model.compile(optimizer='adam', \n",
        "                  loss='sparse_categorical_crossentropy',\n",
        "                  metrics=['accuracy'])\n",
        "    return model"
      ],
      "execution_count": 53,
      "outputs": []
    },
    {
      "cell_type": "code",
      "metadata": {
        "colab": {
          "base_uri": "https://localhost:8080/"
        },
        "id": "1vKL0n_0DVnh",
        "outputId": "59061a22-0374-4578-b22d-176f4ac00c53"
      },
      "source": [
        "# DNN (fit and validation)\n",
        "import tensorflow as tf\n",
        "\n",
        "batch_size = 512\n",
        "train_ds = tf.data.Dataset.from_tensor_slices((x_train, y_train)).shuffle(len(x_train)).batch(batch_size)\n",
        "val_ds = tf.data.Dataset.from_tensor_slices((x_test, y_test)).batch(batch_size)\n",
        "\n",
        "model = get_model()\n",
        "fit = model.fit(train_ds, validation_data=val_ds, epochs=20)"
      ],
      "execution_count": 54,
      "outputs": [
        {
          "output_type": "stream",
          "text": [
            "Epoch 1/20\n",
            "120/120 [==============================] - 3s 19ms/step - loss: 0.8515 - accuracy: 0.7778 - val_loss: 0.0519 - val_accuracy: 0.9874\n",
            "Epoch 2/20\n",
            "120/120 [==============================] - 2s 20ms/step - loss: 0.0747 - accuracy: 0.9763 - val_loss: 0.0337 - val_accuracy: 0.9908\n",
            "Epoch 3/20\n",
            "120/120 [==============================] - 2s 19ms/step - loss: 0.0680 - accuracy: 0.9816 - val_loss: 0.0308 - val_accuracy: 0.9891\n",
            "Epoch 4/20\n",
            "120/120 [==============================] - 2s 18ms/step - loss: 0.0485 - accuracy: 0.9846 - val_loss: 0.0280 - val_accuracy: 0.9968\n",
            "Epoch 5/20\n",
            "120/120 [==============================] - 2s 18ms/step - loss: 0.0266 - accuracy: 0.9918 - val_loss: 0.0215 - val_accuracy: 0.9970\n",
            "Epoch 6/20\n",
            "120/120 [==============================] - 2s 18ms/step - loss: 0.0545 - accuracy: 0.9898 - val_loss: 0.1139 - val_accuracy: 0.9944\n",
            "Epoch 7/20\n",
            "120/120 [==============================] - 2s 18ms/step - loss: 0.0740 - accuracy: 0.9799 - val_loss: 0.0222 - val_accuracy: 0.9957\n",
            "Epoch 8/20\n",
            "120/120 [==============================] - 2s 19ms/step - loss: 0.0267 - accuracy: 0.9900 - val_loss: 0.0299 - val_accuracy: 0.9919\n",
            "Epoch 9/20\n",
            "120/120 [==============================] - 2s 18ms/step - loss: 0.0262 - accuracy: 0.9919 - val_loss: 0.0234 - val_accuracy: 0.9916\n",
            "Epoch 10/20\n",
            "120/120 [==============================] - 2s 18ms/step - loss: 0.0162 - accuracy: 0.9947 - val_loss: 0.0152 - val_accuracy: 0.9987\n",
            "Epoch 11/20\n",
            "120/120 [==============================] - 2s 19ms/step - loss: 0.0129 - accuracy: 0.9964 - val_loss: 0.0212 - val_accuracy: 0.9984\n",
            "Epoch 12/20\n",
            "120/120 [==============================] - 2s 18ms/step - loss: 0.0094 - accuracy: 0.9969 - val_loss: 0.0153 - val_accuracy: 0.9987\n",
            "Epoch 13/20\n",
            "120/120 [==============================] - 2s 18ms/step - loss: 0.0105 - accuracy: 0.9967 - val_loss: 0.0195 - val_accuracy: 0.9986\n",
            "Epoch 14/20\n",
            "120/120 [==============================] - 2s 18ms/step - loss: 0.0112 - accuracy: 0.9972 - val_loss: 0.0222 - val_accuracy: 0.9980\n",
            "Epoch 15/20\n",
            "120/120 [==============================] - 2s 19ms/step - loss: 0.0160 - accuracy: 0.9943 - val_loss: 0.0196 - val_accuracy: 0.9984\n",
            "Epoch 16/20\n",
            "120/120 [==============================] - 2s 18ms/step - loss: 0.0079 - accuracy: 0.9975 - val_loss: 0.0161 - val_accuracy: 0.9978\n",
            "Epoch 17/20\n",
            "120/120 [==============================] - 2s 18ms/step - loss: 0.0099 - accuracy: 0.9964 - val_loss: 0.0194 - val_accuracy: 0.9973\n",
            "Epoch 18/20\n",
            "120/120 [==============================] - 2s 18ms/step - loss: 0.0069 - accuracy: 0.9973 - val_loss: 0.0145 - val_accuracy: 0.9995\n",
            "Epoch 19/20\n",
            "120/120 [==============================] - 2s 18ms/step - loss: 0.0076 - accuracy: 0.9975 - val_loss: 0.0122 - val_accuracy: 0.9992\n",
            "Epoch 20/20\n",
            "120/120 [==============================] - 2s 19ms/step - loss: 0.0087 - accuracy: 0.9971 - val_loss: 0.0162 - val_accuracy: 0.9994\n"
          ],
          "name": "stdout"
        }
      ]
    },
    {
      "cell_type": "code",
      "metadata": {
        "colab": {
          "base_uri": "https://localhost:8080/",
          "height": 295
        },
        "id": "KmjkGanQD11a",
        "outputId": "96181c86-106c-48db-c5aa-f0316177d51f"
      },
      "source": [
        "import matplotlib.pyplot as plt\n",
        "epochs= range(1,21)\n",
        "\n",
        "plt.plot(epochs, fit.history['accuracy'], color='blue',label='Training accuracy')\n",
        "plt.plot(epochs, fit.history['val_accuracy'], color='red',label='Validation accuracy')\n",
        "plt.title('Training and Validation accuracy')\n",
        "plt.xlabel('Epochs')\n",
        "plt.ylabel('Accuracy')\n",
        "plt.legend()\n",
        "plt.show()"
      ],
      "execution_count": 63,
      "outputs": [
        {
          "output_type": "display_data",
          "data": {
            "image/png": "[encoded data removed]",
            "text/plain": [
              "<Figure size 432x288 with 1 Axes>"
            ]
          },
          "metadata": {
            "tags": [],
            "needs_background": "light"
          }
        }
      ]
    },
    {
      "cell_type": "markdown",
      "metadata": {
        "id": "5-OujetXGySY"
      },
      "source": [
        "The graph of the **training loss vs. validation loss** over the number of epochs. This will help the developer of the model to make informed decisions about the architectural choices that need to be made. <br>\n",
        "\n",
        "The gap between training and validation accuracy is a clear indication of overfitting. A **good fit** is identified by a training and validation loss that decreases to a **point of stability** with a minimal gap between the two final loss values. Looking at this graph clearly tells that the model has fitted very well."
      ]
    },
    {
      "cell_type": "code",
      "metadata": {
        "colab": {
          "base_uri": "https://localhost:8080/"
        },
        "id": "vrkjJ5ZGENt1",
        "outputId": "162aeb20-b30c-48d5-cf37-8df319d704b8"
      },
      "source": [
        "y_pred_nn = model.predict_classes(val_ds)"
      ],
      "execution_count": 60,
      "outputs": [
        {
          "output_type": "stream",
          "text": [
            "/usr/local/lib/python3.7/dist-packages/tensorflow/python/keras/engine/sequential.py:455: UserWarning: `model.predict_classes()` is deprecated and will be removed after 2021-01-01. Please use instead:* `np.argmax(model.predict(x), axis=-1)`,   if your model does multi-class classification   (e.g. if it uses a `softmax` last-layer activation).* `(model.predict(x) > 0.5).astype(\"int32\")`,   if your model does binary classification   (e.g. if it uses a `sigmoid` last-layer activation).\n",
            "  warnings.warn('`model.predict_classes()` is deprecated and '\n"
          ],
          "name": "stderr"
        }
      ]
    },
    {
      "cell_type": "code",
      "metadata": {
        "colab": {
          "base_uri": "https://localhost:8080/"
        },
        "id": "W1vKlvprES2T",
        "outputId": "5535ce0c-1899-49f7-dd53-a8f41ae611c3"
      },
      "source": [
        "print('ROCAUC score:', roc_auc_score(y_test, y_pred_nn))\n",
        "print('Accuracy score:', accuracy_score(y_test, y_pred_nn))"
      ],
      "execution_count": 61,
      "outputs": [
        {
          "output_type": "stream",
          "text": [
            "ROCAUC score: 0.9994059405940594\n",
            "Accuracy score: 0.9994094100662773\n"
          ],
          "name": "stdout"
        }
      ]
    },
    {
      "cell_type": "code",
      "metadata": {
        "id": "zd2fS--CvWGh"
      },
      "source": [
        "#This notebook is contributed by Sudip Roy"
      ],
      "execution_count": 51,
      "outputs": []
    }
  ]
}